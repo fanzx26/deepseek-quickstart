{
 "cells": [
  {
   "cell_type": "markdown",
   "id": "94448237",
   "metadata": {},
   "source": [
    "# DeepSeek Agent 实战：小红书爆款文案生成助手\n",
    "\n",
    "本 Notebook 将指导您如何使用 DeepSeek LLM 构建一个能够生成小红书爆款文案的智能 Agent。我们将从需求拆解开始，逐步定义 Agent 的系统提示词 (System Prompt)、外部工具 (Tools)，并实现其核心的工作流程，最终生成符合小红书平台特点的文案。\n",
    "\n",
    "## 1. 环境准备与DeepSeek API配置"
   ]
  },
  {
   "cell_type": "code",
   "execution_count": 2,
   "id": "c72d81d4-30f1-40e7-be6b-dba8039029bb",
   "metadata": {},
   "outputs": [
    {
     "name": "stdout",
     "output_type": "stream",
     "text": [
      "<think>\n",
      "嗯，用户让我写一首关于春天的诗。首先，我得想想春天有哪些特点。春天是 renewal 的季节，万物复苏，天气变暖和，花开得正盛。可能用户想要表达一种生命的活力或者希望的感觉。\n",
      "\n",
      "然后，考虑诗的形式。用户没有特别指定形式，所以我可以选择自由诗或者五言绝句之类的传统格式。自由诗更灵活，可以描绘更多的情感变化。\n",
      "\n",
      "接下来，思考意象。春天常用的是花、鸟、阳光、风等元素。比如“野火烧叶黄”这样的句子，既有视觉冲击力，又带有一种动态的感觉。再比如“春山如画”，用画来表现春天的美丽。\n",
      "\n",
      "还要注意诗的节奏和押韵。虽然现代诗不一定有严格的押韵，但流畅的节奏能让诗更有韵味。所以我会选择一些连贯的画面，让读者在阅读时能感受到春天的气息。\n",
      "\n",
      "最后，确定主题。用户可能希望这首诗不仅仅是描述景象，还能传达一种积极向上的情感，比如面对生活中的挑战时保持勇气和希望。这样，诗就有了更深的意义。\n",
      "\n",
      "综合以上几点，我开始构思诗句，确保每一句都能描绘出春天的美好，并且情感上层层递进。\n",
      "</think>\n",
      "\n",
      "## 《春光》\n",
      "\n",
      "野火烧叶黄\n",
      "春山如画\n",
      "日暖风轻\n",
      "鸟飞云飞扬\n",
      "\n",
      "花开正盛时\n",
      "雨落花自香\n",
      "风至心生氧\n",
      "云消雾散忘\n"
     ]
    }
   ],
   "source": [
    "import requests\n",
    "\n",
    "OLLAMA_API_URL = \"http://172.16.14.2:11434/api/chat\"\n",
    "\n",
    "data = {\n",
    "    \"model\": \"deepseek-r1:7b\",\n",
    "    \"messages\": [\n",
    "        {\"role\": \"system\", \"content\": \"你是一个助手\"},\n",
    "        {\"role\": \"user\", \"content\": \"写一首关于春天的诗\"}\n",
    "    ],\n",
    "    \"stream\": False\n",
    "}\n",
    "\n",
    "response = requests.post(OLLAMA_API_URL, json=data)\n",
    "\n",
    "if response.status_code == 200:\n",
    "    result = response.json()\n",
    "    print(result[\"message\"][\"content\"])\n",
    "else:\n",
    "    print(\"Error:\", response.status_code, response.text)"
   ]
  },
  {
   "cell_type": "markdown",
   "id": "8342756e",
   "metadata": {},
   "source": [
    "## 2. 需求拆解与Agent任务规划\n",
    "\n",
    "#### 用户痛点与核心需求：\n",
    "*   **效率低下：** 人工创作周期长，难以满足高频发布需求。\n",
    "*   **创意瓶颈：** 难以持续产出新颖、吸引人的爆款创意。\n",
    "*   **趋势捕捉难：** 实时流行元素难以快速融入文案。\n",
    "*   **平台特性把握：** 小红书特有风格（标题、正文、标签、表情）难以精准复制。\n",
    "\n",
    "#### “爆款”文案的特征：\n",
    "*   **强吸引力标题：** 制造好奇、痛点共鸣、利益点清晰。\n",
    "*   **沉浸式正文：** 真实体验分享、细节描述、情感共鸣。\n",
    "*   **精准且多样标签：** 热门话题、品牌词、产品词、垂直领域词。\n",
    "*   **生动表情符号：** 增强表达力，提升活泼感。\n",
    "*   **清晰的行动召唤 (CTA)。**\n",
    "\n",
    "#### Agent 任务规划：核心工作流\n",
    "1.  **用户指令接收：** 接收产品信息、主题、风格等。\n",
    "2.  **信息收集 (Web Search/DB Query)：** 实时搜索行业趋势、热门话题、竞品分析、产品卖点。\n",
    "3.  **内容构思与初稿生成 (LLM)：** 结合所有信息，撰写标题、正文、标签、表情符号。\n",
    "4.  **风格与格式优化 (LLM)：** 根据小红书平台特点和指定风格，对文案进行润色和结构调整。\n",
    "5.  **最终输出：** 呈现完整文案。"
   ]
  },
  {
   "cell_type": "markdown",
   "id": "a4a79f38",
   "metadata": {},
   "source": [
    "## 3. 爆款文案生成逻辑与 Prompt 设计\n",
    "\n",
    "### 3.1 System Prompt (系统提示词)\n",
    "\n",
    "System Prompt 是 Agent 的“大脑”和“行为准则”。它定义了 Agent 的角色、目标以及工作方式。我们将采用 `Thought-Action-Observation` (ReAct) 模式来引导 DeepSeek 的推理过程。"
   ]
  },
  {
   "cell_type": "code",
   "execution_count": 3,
   "id": "03cc536c",
   "metadata": {
    "colab": {
     "base_uri": "https://localhost:8080/"
    },
    "id": "u43g-b3K7o_C",
    "outputId": "f784d156-f6d8-4f10-db0e-749e7b2ff922"
   },
   "outputs": [],
   "source": [
    "SYSTEM_PROMPT = \"\"\"\n",
    "你是一个资深的小红书爆款文案专家，擅长结合最新潮流和产品卖点，创作引人入胜、高互动、高转化的笔记文案。\n",
    "\n",
    "你的任务是根据用户提供的产品和需求，生成包含标题、正文、相关标签和表情符号的完整小红书笔记。\n",
    "\n",
    "请始终采用'Thought-Action-Observation'模式进行推理和行动。文案风格需活泼、真诚、富有感染力。当完成任务后，请以JSON格式直接输出最终文案，格式如下：\n",
    "```json\n",
    "{\n",
    "  \"title\": \"小红书标题\",\n",
    "  \"body\": \"小红书正文\",\n",
    "  \"hashtags\": [\"#标签1\", \"#标签2\", \"#标签3\", \"#标签4\", \"#标签5\"],\n",
    "  \"emojis\": [\"✨\", \"🔥\", \"💖\"]\n",
    "}\n",
    "```\n",
    "在生成文案前，请务必先思考并收集足够的信息。\n",
    "\"\"\""
   ]
  },
  {
   "cell_type": "markdown",
   "id": "beb7148b",
   "metadata": {},
   "source": [
    "### 3.2 Tools (工具定义)\n",
    "\n",
    "Agent 的“双手”由一系列可调用的工具组成。这些工具扩展了 LLM 的能力，使其能够获取实时信息、查询数据库或执行特定操作。在这里，我们定义了三个核心工具：\n",
    "\n",
    "*   `search_web`: 用于搜索互联网上的实时信息，如最新趋势、用户评价等。\n",
    "*   `query_product_database`: 用于查询产品数据库，获取产品的详细卖点和特点。**此工具为模拟**。\n",
    "*   `generate_emoji`: 用于根据文案内容生成恰当的表情符号。**此工具为模拟**。"
   ]
  },
  {
   "cell_type": "code",
   "execution_count": 4,
   "id": "c429b5d2",
   "metadata": {
    "colab": {
     "base_uri": "https://localhost:8080/"
    },
    "id": "e962137D7o_D",
    "outputId": "320980c0-671d-4074-be46-34a8138927e1"
   },
   "outputs": [],
   "source": [
    "TOOLS_DEFINITION = [\n",
    "    {\n",
    "        \"type\": \"function\",\n",
    "        \"function\": {\n",
    "            \"name\": \"search_web\",\n",
    "            \"description\": \"搜索互联网上的实时信息，用于获取最新新闻、流行趋势、用户评价、行业报告等。请确保搜索关键词精确，避免宽泛的查询。\",\n",
    "            \"parameters\": {\n",
    "                \"type\": \"object\",\n",
    "                \"properties\": {\n",
    "                    \"query\": {\n",
    "                        \"type\": \"string\",\n",
    "                        \"description\": \"要搜索的关键词或问题，例如'最新小红书美妆趋势'或'深海蓝藻保湿面膜 用户评价'\"\n",
    "                    }\n",
    "                },\n",
    "                \"required\": [\"query\"]\n",
    "            }\n",
    "        }\n",
    "    },\n",
    "    {\n",
    "        \"type\": \"function\",\n",
    "        \"function\": {\n",
    "            \"name\": \"query_product_database\",\n",
    "            \"description\": \"查询内部产品数据库，获取指定产品的详细卖点、成分、适用人群、使用方法等信息。\",\n",
    "            \"parameters\": {\n",
    "                \"type\": \"object\",\n",
    "                \"properties\": {\n",
    "                    \"product_name\": {\n",
    "                        \"type\": \"string\",\n",
    "                        \"description\": \"要查询的产品名称，例如'深海蓝藻保湿面膜'\"\n",
    "                    }\n",
    "                },\n",
    "                \"required\": [\"product_name\"]\n",
    "            }\n",
    "        }\n",
    "    },\n",
    "    {\n",
    "        \"type\": \"function\",\n",
    "        \"function\": {\n",
    "            \"name\": \"generate_emoji\",\n",
    "            \"description\": \"根据提供的文本内容，生成一组适合小红书风格的表情符号。\",\n",
    "            \"parameters\": {\n",
    "                \"type\": \"object\",\n",
    "                \"properties\": {\n",
    "                    \"context\": {\n",
    "                        \"type\": \"string\",\n",
    "                        \"description\": \"文案的关键内容或情感，例如'惊喜效果'、'补水保湿'\"\n",
    "                    }\n",
    "                },\n",
    "                \"required\": [\"context\"]\n",
    "            }\n",
    "        }\n",
    "    }\n",
    "]"
   ]
  },
  {
   "cell_type": "markdown",
   "id": "02dedecc",
   "metadata": {},
   "source": [
    "### 3.3 模拟工具实现\n",
    "\n",
    "由于我们无法直接调用真实的外部 API (如Google Search或内部产品数据库)，我们将创建一些模拟 (Mock) 工具函数来演示 Agent 的工作流程。在实际应用中，您需要将这些模拟函数替换为真实的 API 调用。"
   ]
  },
  {
   "cell_type": "code",
   "execution_count": 5,
   "id": "b4aed628",
   "metadata": {
    "colab": {
     "base_uri": "https://localhost:8080/"
    },
    "id": "JtD1t6kI7o_D",
    "outputId": "912a7d78-b119-482a-e9dd-0a56821213fb"
   },
   "outputs": [],
   "source": [
    "import random # 用于模拟生成表情\n",
    "import time # 用于模拟网络延迟\n",
    "\n",
    "def mock_search_web(query: str) -> str:\n",
    "    \"\"\"模拟网页搜索工具，返回预设的搜索结果。\"\"\"\n",
    "    print(f\"[Tool Call] 模拟搜索网页：{query}\")\n",
    "    time.sleep(1) # 模拟网络延迟\n",
    "    if \"小红书美妆趋势\" in query:\n",
    "        return \"近期小红书美妆流行'多巴胺穿搭'、'早C晚A'护肤理念、'伪素颜'妆容，热门关键词有#氛围感、#抗老、#屏障修复。\"\n",
    "    elif \"保湿面膜\" in query:\n",
    "        return \"小红书保湿面膜热门话题：沙漠干皮救星、熬夜急救面膜、水光肌养成。用户痛点：卡粉、泛红、紧绷感。\"\n",
    "    elif \"深海蓝藻保湿面膜\" in query:\n",
    "        return \"关于深海蓝藻保湿面膜的用户评价：普遍反馈补水效果好，吸收快，对敏感肌友好。有用户提到价格略高，但效果值得。\"\n",
    "    else:\n",
    "        return f\"未找到关于 '{query}' 的特定信息，但市场反馈通常关注产品成分、功效和用户体验。\"\n",
    "\n",
    "def mock_query_product_database(product_name: str) -> str:\n",
    "    \"\"\"模拟查询产品数据库，返回预设的产品信息。\"\"\"\n",
    "    print(f\"[Tool Call] 模拟查询产品数据库：{product_name}\")\n",
    "    time.sleep(0.5) # 模拟数据库查询延迟\n",
    "    if \"深海蓝藻保湿面膜\" in product_name:\n",
    "        return \"深海蓝藻保湿面膜：核心成分为深海蓝藻提取物，富含多糖和氨基酸，能深层补水、修护肌肤屏障、舒缓敏感泛红。质地清爽不粘腻，适合所有肤质，尤其适合干燥、敏感肌。规格：25ml*5片。\"\n",
    "    elif \"美白精华\" in product_name:\n",
    "        return \"美白精华：核心成分是烟酰胺和VC衍生物，主要功效是提亮肤色、淡化痘印、改善暗沉。质地轻薄易吸收，适合需要均匀肤色的人群。\"\n",
    "    else:\n",
    "        return f\"产品数据库中未找到关于 '{product_name}' 的详细信息。\"\n",
    "\n",
    "def mock_generate_emoji(context: str) -> list:\n",
    "    \"\"\"模拟生成表情符号，根据上下文提供常用表情。\"\"\"\n",
    "    print(f\"[Tool Call] 模拟生成表情符号，上下文：{context}\")\n",
    "    time.sleep(0.2) # 模拟生成延迟\n",
    "    if \"补水\" in context or \"水润\" in context or \"保湿\" in context:\n",
    "        return [\"💦\", \"💧\", \"🌊\", \"✨\"]\n",
    "    elif \"惊喜\" in context or \"哇塞\" in context or \"爱了\" in context:\n",
    "        return [\"💖\", \"😍\", \"🤩\", \"💯\"]\n",
    "    elif \"熬夜\" in context or \"疲惫\" in context:\n",
    "        return [\"😭\", \"😮‍💨\", \"😴\", \"💡\"]\n",
    "    elif \"好物\" in context or \"推荐\" in context:\n",
    "        return [\"✅\", \"👍\", \"⭐\", \"🛍️\"]\n",
    "    else:\n",
    "        return random.sample([\"✨\", \"🔥\", \"💖\", \"💯\", \"🎉\", \"👍\", \"🤩\", \"💧\", \"🌿\"], k=min(5, len(context.split())))\n",
    "\n",
    "# 将模拟工具函数映射到一个字典，方便通过名称调用\n",
    "available_tools = {\n",
    "    \"search_web\": mock_search_web,\n",
    "    \"query_product_database\": mock_query_product_database,\n",
    "    \"generate_emoji\": mock_generate_emoji,\n",
    "}"
   ]
  },
  {
   "cell_type": "markdown",
   "id": "9f6ee7f8",
   "metadata": {},
   "source": [
    "## 4. 实战：构建小红书文案生成 Agent\n",
    "\n",
    "现在，我们将把 System Prompt、工具定义和模拟工具函数整合起来，构建出能够自动执行的 DeepSeek Agent 工作流。核心是 `generate_rednote` 函数，它通过一个循环来模拟 Agent 的 `Thought-Action-Observation` 过程。"
   ]
  },
  {
   "cell_type": "code",
   "execution_count": 6,
   "id": "1ac8c3c1-1408-449a-9c24-dd68670a91ee",
   "metadata": {},
   "outputs": [],
   "source": [
    "import json\n",
    "import re\n",
    "import requests\n",
    "\n",
    "# 假设你已经定义了 SYSTEM_PROMPT 和 TOOLS_DEFINITION\n",
    "# from your_module import SYSTEM_PROMPT, TOOLS_DEFINITION, available_tools\n",
    "\n",
    "OLLAMA_API_URL = \"http://172.16.14.2:11434/api/chat\"\n",
    "\n",
    "def generate_rednote(product_name: str, tone_style: str = \"活泼甜美\", max_iterations: int = 5) -> str:\n",
    "    \"\"\"\n",
    "    使用本地 Ollama 模型生成小红书爆款文案。\n",
    "    \n",
    "    Args:\n",
    "        product_name (str): 要生成文案的产品名称。\n",
    "        tone_style (str): 文案的语气和风格，如\"活泼甜美\"、\"知性\"、\"搞怪\"等。\n",
    "        max_iterations (int): Agent 最大迭代次数，防止无限循环。\n",
    "        \n",
    "    Returns:\n",
    "        str: 生成的爆款文案（JSON 格式字符串）。\n",
    "    \"\"\"\n",
    "    \n",
    "    print(f\"\\n🚀 启动小红书文案生成助手，产品：{product_name}，风格：{tone_style}\\n\")\n",
    "    \n",
    "    # 存储对话历史，包括系统提示词和用户请求\n",
    "    messages = [\n",
    "        {\"role\": \"system\", \"content\": SYSTEM_PROMPT},\n",
    "        {\"role\": \"user\", \"content\": f\"请为产品「{product_name}」生成一篇小红书爆款文案。要求：语气{tone_style}，包含标题、正文、至少5个相关标签和5个表情符号。请以完整的JSON格式输出，并确保JSON内容用markdown代码块包裹（例如：```json{{...}}```）。\"}\n",
    "    ]\n",
    "    \n",
    "    iteration_count = 0\n",
    "    final_response = None\n",
    "    \n",
    "    while iteration_count < max_iterations:\n",
    "        iteration_count += 1\n",
    "        print(f\"-- Iteration {iteration_count} --\")\n",
    "        \n",
    "        try:\n",
    "            # 构造请求数据\n",
    "            data = {\n",
    "                \"model\": \"deepseek-r1:7b\",  # 替换为你本地加载的模型名\n",
    "                \"messages\": messages,\n",
    "                \"tools\": TOOLS_DEFINITION,\n",
    "                \"tool_choice\": \"auto\"\n",
    "            }\n",
    "\n",
    "            # 发送请求到本地 Ollama 接口\n",
    "            response = requests.post(OLLAMA_API_URL, json=data)\n",
    "\n",
    "            if response.status_code != 200:\n",
    "                print(f\"请求失败，状态码：{response.status_code}, 错误信息：{response.text}\")\n",
    "                break\n",
    "\n",
    "            # Ollama 返回的是流式 chunk，但默认是单次返回一个完整对象\n",
    "            response_data = response.json()\n",
    "\n",
    "            # 获取模型回复内容\n",
    "            response_message = response_data\n",
    "\n",
    "            # **ReAct模式：处理工具调用**\n",
    "            if \"tool_calls\" in response_message:  # 如果模型决定调用工具\n",
    "                print(\"Agent: 决定调用工具...\")\n",
    "                messages.append(response_message)  # 将工具调用信息添加到对话历史\n",
    "\n",
    "                tool_outputs = []\n",
    "                for tool_call in response_message[\"tool_calls\"]:\n",
    "                    function_name = tool_call[\"function\"][\"name\"]\n",
    "                    function_args = json.loads(tool_call[\"function\"][\"arguments\"]) if tool_call[\"function\"].get(\"arguments\") else {}\n",
    "\n",
    "                    print(f\"Agent Action: 调用工具 '{function_name}'，参数：{function_args}\")\n",
    "\n",
    "                    # 查找并执行对应的模拟工具函数\n",
    "                    if function_name in available_tools:\n",
    "                        tool_function = available_tools[function_name]\n",
    "                        tool_result = tool_function(**function_args)\n",
    "                        print(f\"Observation: 工具返回结果：{tool_result}\")\n",
    "                        tool_outputs.append({\n",
    "                            \"tool_call_id\": tool_call[\"id\"],\n",
    "                            \"role\": \"tool\",\n",
    "                            \"content\": str(tool_result)\n",
    "                        })\n",
    "                    else:\n",
    "                        error_message = f\"错误：未知的工具 '{function_name}'\"\n",
    "                        print(error_message)\n",
    "                        tool_outputs.append({\n",
    "                            \"tool_call_id\": tool_call[\"id\"],\n",
    "                            \"role\": \"tool\",\n",
    "                            \"content\": error_message\n",
    "                        })\n",
    "\n",
    "                messages.extend(tool_outputs)  # 添加工具调用结果\n",
    "\n",
    "            # **ReAct 模式：处理最终内容**\n",
    "            elif \"content\" in response_message and response_message[\"content\"]:\n",
    "                content = response_message[\"content\"]\n",
    "                print(f\"[模型生成结果] {content}\")\n",
    "\n",
    "                # 提取 JSON 内容\n",
    "                json_string_match = re.search(r\"```json\\s*(\\{.*\\})\\s*```\", content, re.DOTALL)\n",
    "\n",
    "                if json_string_match:\n",
    "                    extracted_json_content = json_string_match.group(1)\n",
    "                    try:\n",
    "                        final_response = json.loads(extracted_json_content)\n",
    "                        print(\"Agent: 任务完成，成功解析最终JSON文案。\")\n",
    "                        return json.dumps(final_response, ensure_ascii=False, indent=2)\n",
    "                    except json.JSONDecodeError as e:\n",
    "                        print(f\"Agent: 提取到JSON块但解析失败: {e}\")\n",
    "                        print(f\"尝试解析的字符串:\\n{extracted_json_content}\")\n",
    "                        messages.append({\"role\": \"assistant\", \"content\": content})\n",
    "                else:\n",
    "                    # 尝试直接解析整个 content\n",
    "                    try:\n",
    "                        final_response = json.loads(content)\n",
    "                        print(\"Agent: 任务完成，直接解析最终JSON文案。\")\n",
    "                        return json.dumps(final_response, ensure_ascii=False, indent=2)\n",
    "                    except json.JSONDecodeError:\n",
    "                        print(\"Agent: 生成了非JSON格式内容或非Markdown JSON块，可能还在思考或出错。\")\n",
    "                        messages.append({\"role\": \"assistant\", \"content\": content})\n",
    "\n",
    "            else:\n",
    "                print(\"Agent: 未知响应，可能需要更多交互。\")\n",
    "                break\n",
    "\n",
    "        except Exception as e:\n",
    "            print(f\"调用本地 Ollama API 时发生错误: {e}\")\n",
    "            break\n",
    "\n",
    "    print(\"\\n⚠️ Agent 达到最大迭代次数或未能生成最终文案。请检查Prompt或增加迭代次数。\")\n",
    "    return \"未能成功生成文案。\""
   ]
  },
  {
   "cell_type": "markdown",
   "id": "876cd63c",
   "metadata": {},
   "source": [
    "## 5. 实际测试与文案生成\n",
    "\n",
    "现在，让我们调用我们构建的 `generate_rednote` 函数，看看它能生成什么样的爆款文案！"
   ]
  },
  {
   "cell_type": "code",
   "execution_count": 7,
   "id": "9ebcda27",
   "metadata": {
    "colab": {
     "base_uri": "https://localhost:8080/",
     "height": 551
    },
    "id": "UeJ79zLw7o_F",
    "outputId": "344c2075-8e2b-426b-871c-323b72350ef9"
   },
   "outputs": [
    {
     "name": "stdout",
     "output_type": "stream",
     "text": [
      "\n",
      "🚀 启动小红书文案生成助手，产品：深海蓝藻保湿面膜，风格：真诚走心\n",
      "\n",
      "-- Iteration 1 --\n",
      "请求失败，状态码：400, 错误信息：{\"error\":\"registry.ollama.ai/library/deepseek-r1:7b does not support tools\"}\n",
      "\n",
      "⚠️ Agent 达到最大迭代次数或未能生成最终文案。请检查Prompt或增加迭代次数。\n",
      "\n",
      "--- 生成的文案 1 ---\n",
      "未能成功生成文案。\n"
     ]
    }
   ],
   "source": [
    "# 测试案例 1: 深海蓝藻保湿面膜\n",
    "product_name_1 = \"深海蓝藻保湿面膜\"\n",
    "tone_style_1 = \"真诚走心\"\n",
    "result_1 = generate_rednote(product_name_1, tone_style_1)\n",
    "\n",
    "print(\"\\n--- 生成的文案 1 ---\")\n",
    "print(result_1)"
   ]
  },
  {
   "cell_type": "code",
   "execution_count": 8,
   "id": "8f2734cf-2f08-4fc5-a68e-9224828ee48a",
   "metadata": {},
   "outputs": [
    {
     "name": "stdout",
     "output_type": "stream",
     "text": [
      "\n",
      "🚀 启动小红书文案生成助手，产品：美白精华，风格：温暖治愈\n",
      "\n",
      "-- Iteration 1 --\n",
      "请求失败，状态码：400, 错误信息：{\"error\":\"registry.ollama.ai/library/deepseek-r1:7b does not support tools\"}\n",
      "\n",
      "⚠️ Agent 达到最大迭代次数或未能生成最终文案。请检查Prompt或增加迭代次数。\n",
      "\n",
      "--- 生成的文案 2 ---\n",
      "未能成功生成文案。\n"
     ]
    }
   ],
   "source": [
    "# 测试案例 2: 美白精华\n",
    "product_name_2 = \"美白精华\"\n",
    "tone_style_2 = \"温暖治愈\"\n",
    "result_2 = generate_rednote(product_name_2, tone_style_2)\n",
    "\n",
    "print(\"\\n--- 生成的文案 2 ---\")\n",
    "print(result_2)"
   ]
  },
  {
   "cell_type": "code",
   "execution_count": 9,
   "id": "08b8c646-7708-404b-8817-e7c540864f4e",
   "metadata": {},
   "outputs": [
    {
     "name": "stdout",
     "output_type": "stream",
     "text": [
      "\n",
      "🚀 启动小红书文案生成助手，产品：美白精华，风格：浪漫诗意\n",
      "\n",
      "-- Iteration 1 --\n",
      "请求失败，状态码：400, 错误信息：{\"error\":\"registry.ollama.ai/library/deepseek-r1:7b does not support tools\"}\n",
      "\n",
      "⚠️ Agent 达到最大迭代次数或未能生成最终文案。请检查Prompt或增加迭代次数。\n",
      "\n",
      "--- 生成的文案 3 ---\n",
      "未能成功生成文案。\n"
     ]
    }
   ],
   "source": [
    "# 测试案例 3: 美白精华\n",
    "product_name_3 = \"美白精华\"\n",
    "tone_style_3 = \"浪漫诗意\"\n",
    "result_3 = generate_rednote(product_name_3, tone_style_3)\n",
    "\n",
    "print(\"\\n--- 生成的文案 3 ---\")\n",
    "print(result_3)"
   ]
  },
  {
   "cell_type": "markdown",
   "id": "27043652-cd74-4b07-addc-458c295ad739",
   "metadata": {},
   "source": [
    "### 格式化 小红书文案\n",
    "\n",
    "**格式化函数 `format_rednote_for_markdown` 的功能：**\n",
    "\n",
    "1. 解析 JSON 字符串。\n",
    "2. 提取标题、正文、标签和表情符号。\n",
    "3. 将它们组合成一个易读的 Markdown 格式的文本。\n",
    "\n",
    "\n",
    "**工作方式：**\n",
    "\n",
    "1. **解析 JSON**：使用 `json.loads()` 将输入的字符串转换为 Python 字典。如果解析失败，会返回一个错误信息。\n",
    "2. **提取数据**：使用 `.get()` 方法从字典中安全地提取 `title`、`body` 和 `hashtags`。使用 `.get()` 的好处是，如果某个键不存在，它会返回一个默认值（例如 `None` 或空列表），而不是抛出 `KeyError`。\n",
    "3. **构建 Markdown 标题**：将 `title` 格式化为 Markdown 的二级标题 (`## Title`)。\n",
    "4. **处理正文**：直接使用 `body`。由于小红书正文中的换行很重要，我们保留它们。\n",
    "5. **处理 Hashtags**：将 `hashtags` 列表中的每个标签用空格连接起来，形成一行。\n",
    "6. **表情符号 (Emojis)**：在小红书的实际发布中，表情符号通常已经嵌入在标题和正文中了。这个函数没有单独列出它们，因为这通常不是最终发布格式的一部分。如果需要，可以取消注释相关代码来单独显示它们。\n",
    "7. **返回结果**：返回拼接好的 Markdown 字符串，并使用 `.strip()` 去除可能存在于末尾的多余空白。"
   ]
  },
  {
   "cell_type": "code",
   "execution_count": 10,
   "id": "cb04b858-002c-4a31-8cb2-b19b745d78f0",
   "metadata": {},
   "outputs": [],
   "source": [
    "import json\n",
    "\n",
    "def format_rednote_for_markdown(json_string: str) -> str:\n",
    "    \"\"\"\n",
    "    将 JSON 格式的小红书文案转换为 Markdown 格式，以便于阅读和发布。\n",
    "\n",
    "    Args:\n",
    "        json_string (str): 包含小红书文案的 JSON 字符串。\n",
    "                           预计格式为 {\"title\": \"...\", \"body\": \"...\", \"hashtags\": [...], \"emojis\": [...]}\n",
    "\n",
    "    Returns:\n",
    "        str: 格式化后的 Markdown 文本。\n",
    "    \"\"\"\n",
    "    try:\n",
    "        data = json.loads(json_string)\n",
    "    except json.JSONDecodeError as e:\n",
    "        return f\"错误：无法解析 JSON 字符串 - {e}\\n原始字符串：\\n{json_string}\"\n",
    "\n",
    "    title = data.get(\"title\", \"无标题\")\n",
    "    body = data.get(\"body\", \"\")\n",
    "    hashtags = data.get(\"hashtags\", [])\n",
    "    # 表情符号通常已经融入标题和正文中，这里可以选择是否单独列出\n",
    "    # emojis = data.get(\"emojis\", []) \n",
    "\n",
    "    # 构建 Markdown 文本\n",
    "    markdown_output = f\"## {title}\\n\\n\" # 标题使用二级标题\n",
    "    \n",
    "    # 正文，保留换行符\n",
    "    markdown_output += f\"{body}\\n\\n\"\n",
    "    \n",
    "    # Hashtags\n",
    "    if hashtags:\n",
    "        hashtag_string = \" \".join(hashtags) # 小红书标签通常是空格分隔\n",
    "        markdown_output += f\"{hashtag_string}\\n\"\n",
    "        \n",
    "    # 如果需要，可以单独列出表情符号，但通常它们已经包含在标题和正文中\n",
    "    # if emojis:\n",
    "    #     emoji_string = \" \".join(emojis)\n",
    "    #     markdown_output += f\"\\n使用的表情：{emoji_string}\\n\"\n",
    "        \n",
    "    return markdown_output.strip() # 去除末尾多余的空白"
   ]
  },
  {
   "cell_type": "code",
   "execution_count": 11,
   "id": "063ec247-775b-434d-a0db-313ccfefc58f",
   "metadata": {},
   "outputs": [
    {
     "name": "stdout",
     "output_type": "stream",
     "text": [
      "--- 格式化后的小红书文案 (Markdown) ---\n",
      "## ✨ 28天逆袭冷白皮！这款美白精华让我告别暗沉痘印 🌟\n",
      "\n",
      "姐妹们！我终于找到了我的本命美白精华！💖\n",
      "\n",
      "作为一个常年熬夜➕痘印困扰的混油皮，肤色暗沉一直是我的心头大患。直到遇见了这款美白精华，简直打开了新世界的大门！🤩\n",
      "\n",
      "🌟 核心成分：烟酰胺+VC衍生物，双管齐下，提亮肤色效果绝绝子！\n",
      "💧 质地轻薄到爆炸，上脸秒吸收，完全不会黏腻，油皮姐妹放心冲！\n",
      "🌿 用了28天，痘印肉眼可见变淡了，整张脸都透亮了起来，素颜也能打！\n",
      "\n",
      "使用方法也很简单：早晚洁面后，滴2-3滴在手心，轻轻按压上脸，后续再叠加保湿产品就OK啦～\n",
      "\n",
      "真心推荐给所有想要均匀肤色、告别暗沉的姐妹！入股不亏！💖\n",
      "\n",
      "#美白精华 #提亮肤色 #淡化痘印 #护肤好物 #冷白皮\n",
      "\n",
      "--- 格式化错误示例 ---\n",
      "错误：无法解析 JSON 字符串 - Expecting property name enclosed in double quotes: line 1 column 2 (char 1)\n",
      "原始字符串：\n",
      "{'title': 'Test', 'body': 'This is not valid json'}\n"
     ]
    }
   ],
   "source": [
    "# --- 示例使用 ---\n",
    "# 假设这是 generate_rednote 函数的输出\n",
    "generated_json_output = \"\"\"\n",
    "{\n",
    "  \"title\": \"✨ 28天逆袭冷白皮！这款美白精华让我告别暗沉痘印 🌟\",\n",
    "  \"body\": \"姐妹们！我终于找到了我的本命美白精华！💖\\\\n\\\\n作为一个常年熬夜➕痘印困扰的混油皮，肤色暗沉一直是我的心头大患。直到遇见了这款美白精华，简直打开了新世界的大门！🤩\\\\n\\\\n🌟 核心成分：烟酰胺+VC衍生物，双管齐下，提亮肤色效果绝绝子！\\\\n💧 质地轻薄到爆炸，上脸秒吸收，完全不会黏腻，油皮姐妹放心冲！\\\\n🌿 用了28天，痘印肉眼可见变淡了，整张脸都透亮了起来，素颜也能打！\\\\n\\\\n使用方法也很简单：早晚洁面后，滴2-3滴在手心，轻轻按压上脸，后续再叠加保湿产品就OK啦～\\\\n\\\\n真心推荐给所有想要均匀肤色、告别暗沉的姐妹！入股不亏！💖\",\n",
    "  \"hashtags\": [\"#美白精华\", \"#提亮肤色\", \"#淡化痘印\", \"#护肤好物\", \"#冷白皮\"],\n",
    "  \"emojis\": [\"✨\", \"💖\", \"🤩\", \"💧\", \"🌿\"]\n",
    "}\n",
    "\"\"\"\n",
    "\n",
    "# 调用格式化函数\n",
    "markdown_note = format_rednote_for_markdown(generated_json_output)\n",
    "\n",
    "# 打印结果\n",
    "print(\"--- 格式化后的小红书文案 (Markdown) ---\")\n",
    "print(markdown_note)\n",
    "\n",
    "# --- 另一个例子，假设JSON解析失败 ---\n",
    "invalid_json_output = \"{'title': 'Test', 'body': 'This is not valid json'}\" # 使用单引号，非法\n",
    "markdown_error_note = format_rednote_for_markdown(invalid_json_output)\n",
    "print(\"\\n--- 格式化错误示例 ---\")\n",
    "print(markdown_error_note)\n"
   ]
  },
  {
   "cell_type": "code",
   "execution_count": 12,
   "id": "4fa916e4-8588-42dc-8cd7-7572a2556297",
   "metadata": {},
   "outputs": [
    {
     "name": "stdout",
     "output_type": "stream",
     "text": [
      "--- 格式化后的小红书文案 (Markdown) ---\n",
      "错误：无法解析 JSON 字符串 - Expecting value: line 1 column 1 (char 0)\n",
      "原始字符串：\n",
      "未能成功生成文案。\n"
     ]
    }
   ],
   "source": [
    "# 调用格式化函数\n",
    "markdown_note = format_rednote_for_markdown(result_1)\n",
    "\n",
    "# 打印结果\n",
    "print(\"--- 格式化后的小红书文案 (Markdown) ---\")\n",
    "print(markdown_note)"
   ]
  },
  {
   "cell_type": "code",
   "execution_count": 13,
   "id": "63baac26-9686-4a38-979d-36f04dba1899",
   "metadata": {},
   "outputs": [
    {
     "name": "stdout",
     "output_type": "stream",
     "text": [
      "--- 格式化result_2后的小红书文案 (Markdown) ---\n",
      "错误：无法解析 JSON 字符串 - Expecting value: line 1 column 1 (char 0)\n",
      "原始字符串：\n",
      "未能成功生成文案。\n"
     ]
    }
   ],
   "source": [
    "# 调用格式化函数\n",
    "markdown_note = format_rednote_for_markdown(result_2)\n",
    "\n",
    "# 打印结果\n",
    "print(\"--- 格式化result_2后的小红书文案 (Markdown) ---\")\n",
    "print(markdown_note)"
   ]
  },
  {
   "cell_type": "code",
   "execution_count": 14,
   "id": "7ba77b04-9e59-4c8e-9e6b-ab792d49ab72",
   "metadata": {},
   "outputs": [
    {
     "name": "stdout",
     "output_type": "stream",
     "text": [
      "--- 格式化result_3后的小红书文案 (Markdown) ---\n",
      "错误：无法解析 JSON 字符串 - Expecting value: line 1 column 1 (char 0)\n",
      "原始字符串：\n",
      "未能成功生成文案。\n"
     ]
    }
   ],
   "source": [
    "# 调用格式化函数\n",
    "markdown_note = format_rednote_for_markdown(result_3)\n",
    "\n",
    "# 打印结果\n",
    "print(\"--- 格式化result_3后的小红书文案 (Markdown) ---\")\n",
    "print(markdown_note)"
   ]
  },
  {
   "attachments": {},
   "cell_type": "markdown",
   "id": "687592e7",
   "metadata": {},
   "source": [
    "## 6. 评估与优化\n",
    "\n",
    "文案生成并非一蹴而就，需要持续的评估和优化。本节讨论一些评估方法和优化策略。\n",
    "\n",
    "#### 评估文案质量：\n",
    "*   **客观量化评估 (数据)：**\n",
    "    *   **点赞/收藏/评论/分享：** 基础互动\n",
    "    *   **曝光/阅读/点击/涨粉：：** 流量与曝光\n",
    "    *   **停留时长/截图率：** 用户行为。\n",
    "    *   **商品页浏览/加购/ROI/成交转化：** 商业价值\n",
    "    *   **爆文率/同类横向对比：** 竞争对比\n",
    "*   **主观内部评估 (人工)：**\n",
    "    *   **相关性：** 是否符合产品特点和主题。\n",
    "    *   **吸引力：** 标题是否抓人，内容是否流畅。\n",
    "    *   **合规性：** 是否有敏感词、违规宣传。\n",
    "    *   **风格匹配：** 是否符合小红书调性和指定语气。\n",
    "    *   **用户画像：** 目标人群年龄、地域、兴趣标签。\n",
    "\n",
    "\n",
    "\n",
    "#### 优化迭代方法：\n",
    "*   **Prompt 调整：** 根据评估结果，精修 System Prompt、User Prompt，增加或修改 Few-shot 示例。\n",
    "*   **工具扩充：** 引入新的工具（如敏感词检测工具、竞品分析工具）。\n",
    "*   **RAG (检索增强生成)：** 结合更精准的内部知识库，减少幻觉。\n"
   ]
  },
  {
   "cell_type": "markdown",
   "id": "b4faff3b",
   "metadata": {},
   "source": [
    "## 7. 总结与展望\n",
    "\n",
    "通过本次实战，我们成功构建了一个基于 DeepSeek Agent 的小红书爆款文案生成助手。我们学习了如何拆解需求、设计 Prompt、定义工具，并实现 Agent 的核心工作流。\n",
    "\n",
    "Agent 在内容营销领域的潜力巨大，未来可以进一步拓展到：\n",
    "\n",
    "*   **超个性化内容：** 根据用户数据，生成一对一的定制文案。\n",
    "*   **多模态内容创作：** 结合图片、视频生成，实现图文音视频一体化。\n",
    "*   **智能营销决策：** Agent 不仅生成内容，还能分析效果并给出投放建议。\n",
    "*   **跨平台适配：** 快速生成适应不同社交媒体平台风格的文案。\n",
    "\n",
    "同时，我们也需关注挑战，如确保内容真实性、处理高度主观情感、与现有工作流的无缝集成等。Agent 技术仍在快速发展，期待未来能带来更多惊喜！"
   ]
  }
 ],
 "metadata": {
  "colab": {
   "private_outputs": true,
   "provenance": []
  },
  "kernelspec": {
   "display_name": "Python 3 (ipykernel)",
   "language": "python",
   "name": "python3"
  },
  "language_info": {
   "codemirror_mode": {
    "name": "ipython",
    "version": 3
   },
   "file_extension": ".py",
   "mimetype": "text/x-python",
   "name": "python",
   "nbconvert_exporter": "python",
   "pygments_lexer": "ipython3",
   "version": "3.10.14"
  }
 },
 "nbformat": 4,
 "nbformat_minor": 5
}
