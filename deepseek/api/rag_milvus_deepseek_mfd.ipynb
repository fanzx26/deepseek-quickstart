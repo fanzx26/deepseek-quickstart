{
 "cells": [
  {
   "cell_type": "markdown",
   "id": "20549885",
   "metadata": {},
   "source": [
    "# 使用 Milvus 和 DeepSeek 构建 RAG\n",
    "\n",
    "DeepSeek 帮助开发者使用高性能语言模型构建和扩展 AI 应用。它提供高效的推理、灵活的 API 以及先进的专家混合 (MoE) 架构，用于强大的推理和检索任务。\n",
    "\n",
    "在本教程中，我们将展示如何使用 Milvus 和 DeepSeek 构建一个检索增强生成 (RAG) 管道。"
   ]
  },
  {
   "cell_type": "markdown",
   "id": "7394c701",
   "metadata": {},
   "source": [
    "## 准备工作"
   ]
  },
  {
   "cell_type": "markdown",
   "id": "89103a1e",
   "metadata": {},
   "source": [
    "### 依赖与环境"
   ]
  },
  {
   "cell_type": "markdown",
   "id": "1b3c0999-d670-41a9-afbd-d8a020fe1631",
   "metadata": {},
   "source": [
    "---"
   ]
  },
  {
   "cell_type": "code",
   "execution_count": 1,
   "id": "375ad823",
   "metadata": {},
   "outputs": [],
   "source": [
    "import os\n",
    "\n",
    "# 从环境变量获取 DeepSeek API Key\n",
    "api_key = os.getenv(\"DEEPSEEK_API_KEY\")"
   ]
  },
  {
   "cell_type": "code",
   "execution_count": 2,
   "id": "b99fd866-6700-4d51-84e8-9dfe1b039c11",
   "metadata": {},
   "outputs": [
    {
     "data": {
      "text/plain": [
       "'sk-6a8d2f0e50a14e31bc151d5dca1b6f2b'"
      ]
     },
     "execution_count": 2,
     "metadata": {},
     "output_type": "execute_result"
    }
   ],
   "source": [
    "api_key"
   ]
  },
  {
   "cell_type": "markdown",
   "id": "db44bb26",
   "metadata": {},
   "source": [
    "### 准备数据"
   ]
  },
  {
   "cell_type": "markdown",
   "id": "25f92a95",
   "metadata": {},
   "source": [
    "我们使用 Milvus 文档 2.4.x 中的 FAQ 页面作为我们 RAG 中的私有知识库，这是一个简单 RAG 管道的良好数据源。"
   ]
  },
  {
   "cell_type": "markdown",
   "id": "a1a8b9e2",
   "metadata": {},
   "source": [
    "下载 zip 文件并将文档解压到 `milvus_docs` 文件夹。\n",
    "\n",
    "**建议在命令行执行下面命令**"
   ]
  },
  {
   "cell_type": "code",
   "execution_count": 3,
   "id": "c9035a5f",
   "metadata": {},
   "outputs": [
    {
     "name": "stderr",
     "output_type": "stream",
     "text": [
      "/home/fanzx20/miniconda3/envs/mygeek1/lib/python3.10/site-packages/tqdm/auto.py:21: TqdmWarning: IProgress not found. Please update jupyter and ipywidgets. See https://ipywidgets.readthedocs.io/en/stable/user_install.html\n",
      "  from .autonotebook import tqdm as notebook_tqdm\n"
     ]
    }
   ],
   "source": [
    "import re\n",
    "import os\n",
    "import time\n",
    "from pprint import pprint\n",
    "from pymilvus import MilvusClient, model as milvus_model\n",
    "# --- 配置 ---\n",
    "# Milvus Lite (本地文件数据库) 配置\n",
    "MILVUS_DB_PATH = \"./milvus_mfd_demo.db\"\n",
    "COLLECTION_NAME = \"civil_code_rag_lite\"\n",
    "\n",
    "# 使用 Milvus 内置模型的维度\n",
    "DIMENSION = 768"
   ]
  },
  {
   "cell_type": "code",
   "execution_count": 4,
   "id": "4a47a0a7-1ae4-46fe-aef5-e8c8d72a6988",
   "metadata": {},
   "outputs": [],
   "source": [
    "def parse_civil_code_md(file_path: str) -> list[dict]:\n",
    "    \"\"\"\n",
    "    解析民法典Markdown文件，将其切割成以“法条”为单位的知识块。\n",
    "    (此函数与之前版本基本相同，但优化了正则表达式)\n",
    "    \"\"\"\n",
    "    with open(file_path, 'r', encoding='utf-8') as f:\n",
    "        lines = f.readlines()\n",
    "\n",
    "    chunks = []\n",
    "    current_part = \"\"\n",
    "    current_chapter = \"\"\n",
    "\n",
    "    # 优化正则表达式以匹配 '##' 和 '###' 两种级别的标题\n",
    "    part_regex = re.compile(r'^\\s*#{2,3}\\s*（.*?）(.*?)\\s*$')\n",
    "    chapter_regex = re.compile(r'^\\s*####\\s*(.*?)\\s*$')\n",
    "    article_regex = re.compile(r'^\\s*\\*\\*(第.*?条)\\*\\*\\s*(.*)\\s*$')\n",
    "\n",
    "    for line in lines:\n",
    "        line = line.strip()\n",
    "        if not line:\n",
    "            continue\n",
    "\n",
    "        part_match = part_regex.match(line)\n",
    "        if part_match:\n",
    "            current_part = part_match.group(1).strip()\n",
    "            current_chapter = \"\"\n",
    "            continue\n",
    "\n",
    "        chapter_match = chapter_regex.match(line)\n",
    "        if chapter_match:\n",
    "            current_chapter = chapter_match.group(1).strip()\n",
    "            continue\n",
    "\n",
    "        article_match = article_regex.match(line)\n",
    "        if article_match:\n",
    "            article_number = article_match.group(1).strip()\n",
    "            article_content = article_match.group(2).strip()\n",
    "\n",
    "            content_for_embedding = f\"{current_part} > {current_chapter} > {article_number} {article_content}\"\n",
    "            \n",
    "            metadata = {\n",
    "                'source': file_path,\n",
    "                'part': current_part,\n",
    "                'chapter': current_chapter,\n",
    "                'article_number': article_number,\n",
    "                'text': article_content\n",
    "            }\n",
    "\n",
    "            chunks.append({\n",
    "                'content': content_for_embedding,\n",
    "                'metadata': metadata\n",
    "            })\n",
    "\n",
    "    return chunks"
   ]
  },
  {
   "cell_type": "code",
   "execution_count": 5,
   "id": "baaf32ac-2384-4b6d-9fae-2123dc803c98",
   "metadata": {},
   "outputs": [],
   "source": [
    "def setup_and_insert(client: MilvusClient, collection_name: str, chunks: list[dict], embedder):\n",
    "    \"\"\"设置Collection并插入数据。\"\"\"\n",
    "    if client.has_collection(collection_name=collection_name):\n",
    "        print(f\"Collection '{collection_name}' 已存在，将删除重建。\")\n",
    "        client.drop_collection(collection_name=collection_name)\n",
    "\n",
    "    print(f\"创建 Collection: '{collection_name}'\")\n",
    "    client.create_collection(\n",
    "        collection_name=collection_name,\n",
    "        dimension=DIMENSION,\n",
    "        metric_type=\"IP\",  # 使用内积作为相似度度量\n",
    "        consistency_level=\"Strong\",\n",
    "        primary_field_name=\"pk\",\n",
    "        vector_field_name=\"embedding\"\n",
    "    )\n",
    "\n",
    "    print(\"准备并插入数据...\")\n",
    "    contents_to_embed = [chunk['content'] for chunk in chunks]\n",
    "    \n",
    "    # Milvus 的默认模型可以批量处理文档\n",
    "    doc_embeddings = embedder.encode_documents(contents_to_embed)\n",
    "\n",
    "    data_to_insert = []\n",
    "    for i, chunk in enumerate(chunks):\n",
    "        data_to_insert.append({\n",
    "            \"pk\": i,  # 提供主键\n",
    "            \"embedding\": doc_embeddings[i],\n",
    "            \"text\": chunk['metadata']['text'],\n",
    "            \"part\": chunk['metadata']['part'],\n",
    "            \"chapter\": chunk['metadata']['chapter'],\n",
    "            \"article_number\": chunk['metadata']['article_number']\n",
    "        })\n",
    "\n",
    "    client.insert(collection_name=collection_name, data=data_to_insert)\n",
    "    print(f\"成功插入 {len(data_to_insert)} 条数据。\")\n",
    "\n",
    "def search(client: MilvusClient, collection_name: str, questions: list[str], embedder, top_k: int = 3):\n",
    "    \"\"\"在Milvus中搜索并打印结果。\"\"\"\n",
    "    for question in questions:\n",
    "        print(\"\\n\" + \"=\"*50)\n",
    "        print(f\"查询: {question}\")\n",
    "        print(\"=\"*50)\n",
    "\n",
    "        # 编码查询问题\n",
    "        query_embeddings = embedder.encode_queries([question])\n",
    "        \n",
    "        results = client.search(\n",
    "            collection_name=collection_name,\n",
    "            data=query_embeddings,\n",
    "            limit=top_k,\n",
    "            output_fields=[\"text\", \"part\", \"chapter\", \"article_number\"] # 指定需要返回的字段\n",
    "        )\n",
    "        \n",
    "        if not results[0]:\n",
    "            print(\"未找到相关结果。\")\n",
    "            continue\n",
    "\n",
    "        print(\"查询结果:\")\n",
    "        for rank, hit in enumerate(results[0], 1):\n",
    "            print(f\"  [结果 {rank}] 相似度: {hit['distance']:.4f}\")\n",
    "            print(f\"  - 所属编: {hit['entity']['part']}\")\n",
    "            print(f\"  - 所属章: {hit['entity']['chapter']}\")\n",
    "            print(f\"  - 法条号: {hit['entity']['article_number']}\")\n",
    "            print(f\"  - 内  容: {hit['entity']['text']}\")\n",
    "            print(\"  ---\")"
   ]
  },
  {
   "cell_type": "code",
   "execution_count": 7,
   "id": "01b73e74-ee7d-4daf-b7db-1c7a10bfc0bf",
   "metadata": {},
   "outputs": [
    {
     "name": "stdout",
     "output_type": "stream",
     "text": [
      "总共生成了 387 个知识块。\n",
      "\n",
      "切割后的知识块示例:\n",
      "[{'content': '物权编 > 第一章 一般规定 > 第二百零四条 '\n",
      "             '为了明确物的归属，充分发挥物的效用，保护权利人的合法权益，维护社会经济秩序，制定本编。',\n",
      "  'metadata': {'article_number': '第二百零四条',\n",
      "               'chapter': '第一章 一般规定',\n",
      "               'part': '物权编',\n",
      "               'source': 'mfd.md',\n",
      "               'text': '为了明确物的归属，充分发挥物的效用，保护权利人的合法权益，维护社会经济秩序，制定本编。'}},\n",
      " {'content': '物权编 > 第一章 一般规定 > 第二百零五条 本编调整因物的归属和利用产生的民事关系。',\n",
      "  'metadata': {'article_number': '第二百零五条',\n",
      "               'chapter': '第一章 一般规定',\n",
      "               'part': '物权编',\n",
      "               'source': 'mfd.md',\n",
      "               'text': '本编调整因物的归属和利用产生的民事关系。'}},\n",
      " {'content': '物权编 > 第一章 一般规定 > 第二百零六条 国家坚持和完善社会主义公有制为主体、多种所有制经济共同发展的基本经济制度。',\n",
      "  'metadata': {'article_number': '第二百零六条',\n",
      "               'chapter': '第一章 一般规定',\n",
      "               'part': '物权编',\n",
      "               'source': 'mfd.md',\n",
      "               'text': '国家坚持和完善社会主义公有制为主体、多种所有制经济共同发展的基本经济制度。'}},\n",
      " {'content': '物权编 > 第一章 一般规定 > 第二百零七条 '\n",
      "             '国家、集体、私人的物权和其他权利人的物权受法律平等保护，任何组织或者个人不得侵犯。',\n",
      "  'metadata': {'article_number': '第二百零七条',\n",
      "               'chapter': '第一章 一般规定',\n",
      "               'part': '物权编',\n",
      "               'source': 'mfd.md',\n",
      "               'text': '国家、集体、私人的物权和其他权利人的物权受法律平等保护，任何组织或者个人不得侵犯。'}},\n",
      " {'content': '物权编 > 第一章 一般规定 > 第二百零八条 '\n",
      "             '不动产权利的设立、变更、转让和消灭，应当依照法律规定登记。动产物权的设立和转让，应当依照法律规定交付。',\n",
      "  'metadata': {'article_number': '第二百零八条',\n",
      "               'chapter': '第一章 一般规定',\n",
      "               'part': '物权编',\n",
      "               'source': 'mfd.md',\n",
      "               'text': '不动产权利的设立、变更、转让和消灭，应当依照法律规定登记。动产物权的设立和转让，应当依照法律规定交付。'}}]\n"
     ]
    }
   ],
   "source": [
    "# 1. 解析Markdown文件\n",
    "file_name = 'mfd.md'\n",
    "knowledge_chunks = parse_civil_code_md(file_name)\n",
    "print(f\"总共生成了 {len(knowledge_chunks)} 个知识块。\")\n",
    "\n",
    "print(\"\\n切割后的知识块示例:\")\n",
    "pprint(knowledge_chunks[:5])"
   ]
  },
  {
   "cell_type": "code",
   "execution_count": 8,
   "id": "5a1f2e27-4d37-4c47-9b65-ad6a3b680a3f",
   "metadata": {},
   "outputs": [
    {
     "name": "stdout",
     "output_type": "stream",
     "text": [
      "删除旧的数据库文件: './milvus_mfd_demo.db'\n"
     ]
    }
   ],
   "source": [
    "# 为保证每次运行都是全新的，先删除旧的数据库文件\n",
    "if os.path.exists(MILVUS_DB_PATH):\n",
    "    print(f\"删除旧的数据库文件: '{MILVUS_DB_PATH}'\")\n",
    "    os.remove(MILVUS_DB_PATH)"
   ]
  },
  {
   "cell_type": "markdown",
   "id": "4cc2a0b8",
   "metadata": {},
   "source": [
    "### 准备 LLM 和 Embedding 模型"
   ]
  },
  {
   "cell_type": "code",
   "execution_count": 9,
   "id": "1a1c8132-811c-4c2c-b998-e2cab50b3694",
   "metadata": {},
   "outputs": [
    {
     "name": "stdout",
     "output_type": "stream",
     "text": [
      "--> 步骤 1: 初始化嵌入模型...\n",
      "--> 嵌入模型初始化成功。\n",
      "\n",
      "--> 步骤 2: 初始化 MilvusClient...\n",
      "--> MilvusClient 初始化成功。\n"
     ]
    }
   ],
   "source": [
    "print(\"--> 步骤 1: 初始化嵌入模型...\")\n",
    "embedding_model = milvus_model.DefaultEmbeddingFunction()\n",
    "print(\"--> 嵌入模型初始化成功。\")\n",
    "\n",
    "# 3. 然后初始化Milvus客户端，启动后台服务\n",
    "print(\"\\n--> 步骤 2: 初始化 MilvusClient...\")\n",
    "milvus_client = MilvusClient(uri=MILVUS_DB_PATH)\n",
    "print(\"--> MilvusClient 初始化成功。\")"
   ]
  },
  {
   "cell_type": "code",
   "execution_count": 10,
   "id": "d64ffeec-bc46-4df2-9f4d-e893016cfc6b",
   "metadata": {},
   "outputs": [
    {
     "name": "stdout",
     "output_type": "stream",
     "text": [
      "创建 Collection: 'civil_code_rag_lite'\n",
      "准备并插入数据...\n",
      "成功插入 387 条数据。\n"
     ]
    }
   ],
   "source": [
    "setup_and_insert(milvus_client, COLLECTION_NAME, knowledge_chunks, embedding_model)"
   ]
  },
  {
   "cell_type": "code",
   "execution_count": 16,
   "id": "fbc0262e-e810-4dd7-b588-2d36e0fd8196",
   "metadata": {},
   "outputs": [],
   "source": [
    "def search(client: MilvusClient, collection_name: str, question: str, embedder, top_k: int = 3) -> list:\n",
    "    \"\"\"\n",
    "    在Milvus中为单个问题进行向量搜索，并返回原始结果。\n",
    "    \"\"\"\n",
    "    # 编码查询问题\n",
    "    query_embeddings = embedder.encode_queries([question])\n",
    "    \n",
    "    results = client.search(\n",
    "        collection_name=collection_name,\n",
    "        data=query_embeddings,\n",
    "        limit=top_k,\n",
    "        output_fields=[\"text\", \"part\", \"chapter\", \"article_number\"] # 指定需要返回的字段\n",
    "    )\n",
    "    \n",
    "    # search v2.x 返回一个包含结果列表的列表\n",
    "    return results[0] if results and results[0] else []"
   ]
  },
  {
   "cell_type": "code",
   "execution_count": 22,
   "id": "6b6055c9-d7ab-4c7f-9fb3-59c3516a179e",
   "metadata": {},
   "outputs": [],
   "source": [
    "def rag_get_context(client: MilvusClient, collection_name: str, question: str, embedder):\n",
    "    \"\"\"\n",
    "    执行完整的RAG流程：搜索相关文档，并使用LLM生成答案。\n",
    "    \"\"\"\n",
    "    print(\"\\n\" + \"=\"*80)\n",
    "    print(f\"开始处理问题: \\\"{question}\\\"\")\n",
    "    print(\"=\"*80)\n",
    "\n",
    "    # 1. 在Milvus中搜索相关法条\n",
    "    print(\"\\n[步骤 1/3] 正在从Milvus中检索相关法条...\")\n",
    "    search_results = search(client, collection_name, question, embedder)\n",
    "\n",
    "    if not search_results:\n",
    "        print(\"检索完成：未找到与问题相关的法条。\")\n",
    "        return\n",
    "\n",
    "    # 2. 准备上下文\n",
    "    print(f\"检索完成：找到 {len(search_results)} 条相关法条。正在准备上下文...\")\n",
    "    context_parts = []\n",
    "    for rank, hit in enumerate(search_results, 1):\n",
    "        entity = hit['entity']\n",
    "        context_parts.append(\n",
    "            f\"【来源 {rank}】\\n\"\n",
    "            f\"相似度: {hit['distance']:.4f} \\n\"\n",
    "            f\"法条号: {entity['article_number']} ({entity['part']} > {entity['chapter']})\\n\"\n",
    "            f\"内  容: {entity['text']}\"\n",
    "        )\n",
    "    context_str = \"\\n\\n---\\n\\n\".join(context_parts)\n",
    "    \n",
    "    print(\"\\n--- [检索到的上下文] ---\")\n",
    "    print(context_str)\n",
    "    print(\"------------------------\\n\")\n",
    "\n",
    "    # # 3. 调用LLM进行综合回答\n",
    "    # print(\"[步骤 3/3] 正在调用大语言模型生成最终答案...\")\n",
    "    # final_answer = get_llm_answer(question, context_str)\n",
    "    \n",
    "    # print(\"\\n--- [AI助手回答] ---\")\n",
    "    # print(final_answer)\n",
    "    # print(\"--------------------\\n\")\n",
    "    return context_str"
   ]
  },
  {
   "cell_type": "code",
   "execution_count": 24,
   "id": "ebbc8159-bd55-4942-9724-c3c40c11c847",
   "metadata": {
    "scrolled": true
   },
   "outputs": [
    {
     "name": "stdout",
     "output_type": "stream",
     "text": [
      "\n",
      "================================================================================\n",
      "开始处理问题: \"登记机构不得有下列行为\"\n",
      "================================================================================\n",
      "\n",
      "[步骤 1/3] 正在从Milvus中检索相关法条...\n",
      "检索完成：找到 3 条相关法条。正在准备上下文...\n",
      "\n",
      "--- [检索到的上下文] ---\n",
      "【来源 1】\n",
      "相似度: 0.7712 \n",
      "法条号: 第二百一十五条 (物权编 > 第一章 一般规定)\n",
      "内  容: 不动产登记簿由登记机构管理。\n",
      "\n",
      "---\n",
      "\n",
      "【来源 2】\n",
      "相似度: 0.7712 \n",
      "法条号: 第二百零六条 (物权编 > 第一章 一般规定)\n",
      "内  容: 国家坚持和完善社会主义公有制为主体、多种所有制经济共同发展的基本经济制度。\n",
      "\n",
      "---\n",
      "\n",
      "【来源 3】\n",
      "相似度: 0.7712 \n",
      "法条号: 第二百零五条 (物权编 > 第一章 一般规定)\n",
      "内  容: 本编调整因物的归属和利用产生的民事关系。\n",
      "------------------------\n",
      "\n"
     ]
    }
   ],
   "source": [
    "# 4. 构造问题并查询\n",
    "question = \"登记机构不得有下列行为\"\n",
    "\n",
    "context = rag_get_context(milvus_client, COLLECTION_NAME, question, embedding_model)\n"
   ]
  },
  {
   "cell_type": "code",
   "execution_count": 25,
   "id": "e37259bc-d0ff-40b0-a9a2-c00709f3313d",
   "metadata": {},
   "outputs": [],
   "source": [
    "SYSTEM_PROMPT = \"\"\"\n",
    "Human: 你是一个 AI 助手。你能够从提供的上下文段落片段中找到问题的答案。\n",
    "\"\"\"\n",
    "USER_PROMPT = f\"\"\"\n",
    "请使用以下用 <context> 标签括起来的信息片段来回答用 <question> 标签括起来的问题。\n",
    "<context>\n",
    "{context}\n",
    "</context>\n",
    "<question>\n",
    "{question}\n",
    "</question>\n",
    "\"\"\""
   ]
  },
  {
   "cell_type": "markdown",
   "id": "19eaff7a",
   "metadata": {},
   "source": [
    "DeepSeek 支持 OpenAI 风格的 API，您可以使用相同的 API 进行微小调整来调用 LLM。"
   ]
  },
  {
   "cell_type": "code",
   "execution_count": 26,
   "id": "b994eb47",
   "metadata": {},
   "outputs": [],
   "source": [
    "from openai import OpenAI\n",
    "deepseek_client = OpenAI(\n",
    "    api_key=api_key,\n",
    "    base_url=\"https://api.deepseek.com\"\n",
    "    # base_url=\"https://api.deepseek.com/v1\",  # DeepSeek API 的基地址\n",
    ")"
   ]
  },
  {
   "cell_type": "code",
   "execution_count": 27,
   "id": "638a7561",
   "metadata": {},
   "outputs": [
    {
     "name": "stdout",
     "output_type": "stream",
     "text": [
      "根据提供的上下文信息，未包含关于\"登记机构不得有下列行为\"的具体规定。现有内容仅涉及：\n",
      "1. 不动产登记簿的管理（第二百一十五条）\n",
      "2. 国家基本经济制度（第二百零六条）\n",
      "3. 物权编的调整范围（第二百零五条）\n",
      "\n",
      "建议查阅其他相关法条以获取关于登记机构禁止行为的明确规定。\n"
     ]
    }
   ],
   "source": [
    "\n",
    "response = deepseek_client.chat.completions.create(\n",
    "    model=\"deepseek-chat\",\n",
    "    messages=[\n",
    "        {\"role\": \"system\", \"content\": SYSTEM_PROMPT},\n",
    "        {\"role\": \"user\", \"content\": USER_PROMPT},\n",
    "    ],\n",
    ")\n",
    "print(response.choices[0].message.content)"
   ]
  },
  {
   "cell_type": "code",
   "execution_count": null,
   "id": "50ce3b55-7daa-4727-95bd-3b00f6aa2b03",
   "metadata": {},
   "outputs": [],
   "source": []
  }
 ],
 "metadata": {
  "kernelspec": {
   "display_name": "Python 3 (ipykernel)",
   "language": "python",
   "name": "python3"
  },
  "language_info": {
   "codemirror_mode": {
    "name": "ipython",
    "version": 3
   },
   "file_extension": ".py",
   "mimetype": "text/x-python",
   "name": "python",
   "nbconvert_exporter": "python",
   "pygments_lexer": "ipython3",
   "version": "3.10.14"
  }
 },
 "nbformat": 4,
 "nbformat_minor": 5
}
